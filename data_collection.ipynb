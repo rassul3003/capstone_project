{
 "cells": [
  {
   "cell_type": "code",
   "execution_count": 1,
   "metadata": {
    "collapsed": true,
    "ExecuteTime": {
     "end_time": "2023-08-17T03:10:16.761264200Z",
     "start_time": "2023-08-17T03:10:09.882394Z"
    }
   },
   "outputs": [
    {
     "data": {
      "text/plain": "   School Code                     School Name    School Type   Function  \\\n0        10505                   Abington High  Public School  Principal   \n1        10003  Beaver Brook Elementary School  Public School  Principal   \n2        10002        Center Elementary School  Public School  Principal   \n3        10405            Frolio Middle School  Public School  Principal   \n4        10015     Woodsdale Elementary School  Public School  Principal   \n\n           Contact Name            Address 1 Address 2      Town State   Zip  \\\n0  Teresa Sullivan-Cruz   201 Gliniewicz Way       NaN  Abington    MA  2351   \n1       Catherine Zinni  1 Ralph Hamlin Lane       NaN  Abington    MA  2351   \n2        Lora Monachino   201 Gliniewicz Way       NaN  Abington    MA  2351   \n3    Matthew MacCurtain   201 Gliniewicz Way       NaN  Abington    MA  2351   \n4        Jonathan Hawes  128 Chestnut Street       NaN  Abington    MA  2351   \n\n   ... MCAS_10thGrade_English_Incl. in SGP(#)  \\\n0  ...                                  111.0   \n1  ...                                    NaN   \n2  ...                                    NaN   \n3  ...                                    NaN   \n4  ...                                    NaN   \n\n  Accountability and Assistance Level  \\\n0                             Level 1   \n1                             Level 3   \n2                   Insufficient data   \n3                             Level 2   \n4                             Level 2   \n\n  Accountability and Assistance Description  \\\n0               Meeting gap narrowing goals   \n1  Among lowest performing 20% of subgroups   \n2                                       NaN   \n3           Not meeting gap narrowing goals   \n4           Not meeting gap narrowing goals   \n\n  School Accountability Percentile (1-99)  \\\n0                                    42.0   \n1                                    34.0   \n2                                     NaN   \n3                                    40.0   \n4                                    52.0   \n\n   Progress and Performance Index (PPI) - All Students  \\\n0                                               76.0     \n1                                               69.0     \n2                                                NaN     \n3                                               63.0     \n4                                               65.0     \n\n   Progress and Performance Index (PPI) - High Needs Students  \\\n0                                               75.0            \n1                                               73.0            \n2                                                NaN            \n3                                               64.0            \n4                                               67.0            \n\n   District_Accountability and Assistance Level  \\\n0                                       Level 3   \n1                                       Level 3   \n2                                       Level 3   \n3                                       Level 3   \n4                                       Level 3   \n\n   District_Accountability and Assistance Description  \\\n0  One or more schools in the district classified...    \n1  One or more schools in the district classified...    \n2  One or more schools in the district classified...    \n3  One or more schools in the district classified...    \n4  One or more schools in the district classified...    \n\n   District_Progress and Performance Index (PPI) - All Students  \\\n0                                               63.0              \n1                                               63.0              \n2                                               63.0              \n3                                               63.0              \n4                                               63.0              \n\n   District_Progress and Performance Index (PPI) - High Needs Students  \n0                                               60.0                    \n1                                               60.0                    \n2                                               60.0                    \n3                                               60.0                    \n4                                               60.0                    \n\n[5 rows x 302 columns]",
      "text/html": "<div>\n<style scoped>\n    .dataframe tbody tr th:only-of-type {\n        vertical-align: middle;\n    }\n\n    .dataframe tbody tr th {\n        vertical-align: top;\n    }\n\n    .dataframe thead th {\n        text-align: right;\n    }\n</style>\n<table border=\"1\" class=\"dataframe\">\n  <thead>\n    <tr style=\"text-align: right;\">\n      <th></th>\n      <th>School Code</th>\n      <th>School Name</th>\n      <th>School Type</th>\n      <th>Function</th>\n      <th>Contact Name</th>\n      <th>Address 1</th>\n      <th>Address 2</th>\n      <th>Town</th>\n      <th>State</th>\n      <th>Zip</th>\n      <th>...</th>\n      <th>MCAS_10thGrade_English_Incl. in SGP(#)</th>\n      <th>Accountability and Assistance Level</th>\n      <th>Accountability and Assistance Description</th>\n      <th>School Accountability Percentile (1-99)</th>\n      <th>Progress and Performance Index (PPI) - All Students</th>\n      <th>Progress and Performance Index (PPI) - High Needs Students</th>\n      <th>District_Accountability and Assistance Level</th>\n      <th>District_Accountability and Assistance Description</th>\n      <th>District_Progress and Performance Index (PPI) - All Students</th>\n      <th>District_Progress and Performance Index (PPI) - High Needs Students</th>\n    </tr>\n  </thead>\n  <tbody>\n    <tr>\n      <th>0</th>\n      <td>10505</td>\n      <td>Abington High</td>\n      <td>Public School</td>\n      <td>Principal</td>\n      <td>Teresa Sullivan-Cruz</td>\n      <td>201 Gliniewicz Way</td>\n      <td>NaN</td>\n      <td>Abington</td>\n      <td>MA</td>\n      <td>2351</td>\n      <td>...</td>\n      <td>111.0</td>\n      <td>Level 1</td>\n      <td>Meeting gap narrowing goals</td>\n      <td>42.0</td>\n      <td>76.0</td>\n      <td>75.0</td>\n      <td>Level 3</td>\n      <td>One or more schools in the district classified...</td>\n      <td>63.0</td>\n      <td>60.0</td>\n    </tr>\n    <tr>\n      <th>1</th>\n      <td>10003</td>\n      <td>Beaver Brook Elementary School</td>\n      <td>Public School</td>\n      <td>Principal</td>\n      <td>Catherine Zinni</td>\n      <td>1 Ralph Hamlin Lane</td>\n      <td>NaN</td>\n      <td>Abington</td>\n      <td>MA</td>\n      <td>2351</td>\n      <td>...</td>\n      <td>NaN</td>\n      <td>Level 3</td>\n      <td>Among lowest performing 20% of subgroups</td>\n      <td>34.0</td>\n      <td>69.0</td>\n      <td>73.0</td>\n      <td>Level 3</td>\n      <td>One or more schools in the district classified...</td>\n      <td>63.0</td>\n      <td>60.0</td>\n    </tr>\n    <tr>\n      <th>2</th>\n      <td>10002</td>\n      <td>Center Elementary School</td>\n      <td>Public School</td>\n      <td>Principal</td>\n      <td>Lora Monachino</td>\n      <td>201 Gliniewicz Way</td>\n      <td>NaN</td>\n      <td>Abington</td>\n      <td>MA</td>\n      <td>2351</td>\n      <td>...</td>\n      <td>NaN</td>\n      <td>Insufficient data</td>\n      <td>NaN</td>\n      <td>NaN</td>\n      <td>NaN</td>\n      <td>NaN</td>\n      <td>Level 3</td>\n      <td>One or more schools in the district classified...</td>\n      <td>63.0</td>\n      <td>60.0</td>\n    </tr>\n    <tr>\n      <th>3</th>\n      <td>10405</td>\n      <td>Frolio Middle School</td>\n      <td>Public School</td>\n      <td>Principal</td>\n      <td>Matthew MacCurtain</td>\n      <td>201 Gliniewicz Way</td>\n      <td>NaN</td>\n      <td>Abington</td>\n      <td>MA</td>\n      <td>2351</td>\n      <td>...</td>\n      <td>NaN</td>\n      <td>Level 2</td>\n      <td>Not meeting gap narrowing goals</td>\n      <td>40.0</td>\n      <td>63.0</td>\n      <td>64.0</td>\n      <td>Level 3</td>\n      <td>One or more schools in the district classified...</td>\n      <td>63.0</td>\n      <td>60.0</td>\n    </tr>\n    <tr>\n      <th>4</th>\n      <td>10015</td>\n      <td>Woodsdale Elementary School</td>\n      <td>Public School</td>\n      <td>Principal</td>\n      <td>Jonathan Hawes</td>\n      <td>128 Chestnut Street</td>\n      <td>NaN</td>\n      <td>Abington</td>\n      <td>MA</td>\n      <td>2351</td>\n      <td>...</td>\n      <td>NaN</td>\n      <td>Level 2</td>\n      <td>Not meeting gap narrowing goals</td>\n      <td>52.0</td>\n      <td>65.0</td>\n      <td>67.0</td>\n      <td>Level 3</td>\n      <td>One or more schools in the district classified...</td>\n      <td>63.0</td>\n      <td>60.0</td>\n    </tr>\n  </tbody>\n</table>\n<p>5 rows × 302 columns</p>\n</div>"
     },
     "execution_count": 1,
     "metadata": {},
     "output_type": "execute_result"
    }
   ],
   "source": [
    "import pandas as pd\n",
    "\n",
    "# load two csv files to obtain 'schools' and 'data_dict' datasets\n",
    "\n",
    "schools = pd.read_csv('MA_Public_Schools_2017.csv')\n",
    "column_names = pd.read_csv('MA_Public_Schools_datadict.csv')\n",
    "schools.head()"
   ]
  },
  {
   "cell_type": "code",
   "execution_count": 2,
   "outputs": [
    {
     "data": {
      "text/plain": "                                            School Name          Town  \\\n0                                         Abington High      Abington   \n1                        Beaver Brook Elementary School      Abington   \n2                              Center Elementary School      Abington   \n3                                  Frolio Middle School      Abington   \n4                           Woodsdale Elementary School      Abington   \n...                                                 ...           ...   \n1856     Pioneer Charter School of Science II (PCSS-II)        Saugus   \n1857             Springfield Preparatory Charter School   Springfield   \n1858  TEC Connections Academy Commonwealth Virtual S...  East Walpole   \n1859            UP Academy Charter School of Dorchester        Boston   \n1860           UP Academy Charter School of Springfield        Boston   \n\n                                      Grade  % English Language Learner  \\\n0                               09,10,11,12                         2.4   \n1                               01,02,03,04                         7.2   \n2                                      PK,K                         3.0   \n3                                     07,08                         1.8   \n4                                     05,06                         2.0   \n...                                     ...                         ...   \n1856                      07,08,09,10,11,12                        25.5   \n1857                                K,01,02                        25.8   \n1858  K,01,02,03,04,05,06,07,08,09,10,11,12                         2.1   \n1859           PK,K,01,02,03,04,05,06,07,08                        21.1   \n1860                               06,07,08                         NaN   \n\n      % Students With Disabilities  % High Needs  % African American  % Asian  \\\n0                              9.7          28.8                 2.2      1.5   \n1                             13.3          37.1                 1.9      1.9   \n2                             21.2          34.0                 3.9      3.0   \n3                             13.1          30.8                 2.4      1.8   \n4                             10.8          30.6                 2.0      1.4   \n...                            ...           ...                 ...      ...   \n1856                          11.5          53.4                35.1     11.5   \n1857                           4.3          76.7                24.5      1.8   \n1858                          20.4          49.9                 6.3      3.3   \n1859                          19.5          78.0                56.7      1.6   \n1860                           NaN           NaN                 NaN      NaN   \n\n      % Hispanic  % White  % Native American  \\\n0            9.1     85.8                0.2   \n1            6.7     88.4                0.5   \n2            8.4     84.7                0.0   \n3            6.1     89.3                0.0   \n4            4.2     92.1                0.0   \n...          ...      ...                ...   \n1856        21.1     29.8                1.2   \n1857        64.4      6.1                0.0   \n1858        12.2     70.5                0.4   \n1859        38.0      1.1                0.4   \n1860         NaN      NaN                NaN   \n\n      % Native Hawaiian, Pacific Islander  % Multi-Race, Non-Hispanic  \\\n0                                     0.2                         0.9   \n1                                     0.2                         0.3   \n2                                     0.0                         0.0   \n3                                     0.0                         0.3   \n4                                     0.0                         0.3   \n...                                   ...                         ...   \n1856                                  0.0                         1.2   \n1857                                  0.0                         3.1   \n1858                                  0.2                         7.1   \n1859                                  0.0                         2.2   \n1860                                  NaN                         NaN   \n\n      Average Class Size  % Males  % Females  Average Expenditures per Pupil  \n0                   15.8     45.6       54.4                        13270.84  \n1                   24.6     50.2       49.8                        13270.84  \n2                   14.6     54.2       45.8                        13270.84  \n3                   21.1     53.4       46.6                        13270.84  \n4                   30.4     50.7       49.3                        13270.84  \n...                  ...      ...        ...                             ...  \n1856                18.8     45.0       55.0                             NaN  \n1857                27.0     50.9       49.1                             NaN  \n1858                25.7     43.4       56.6                             NaN  \n1859                21.9     49.2       50.8                             NaN  \n1860                 NaN      NaN        NaN                             NaN  \n\n[1861 rows x 17 columns]",
      "text/html": "<div>\n<style scoped>\n    .dataframe tbody tr th:only-of-type {\n        vertical-align: middle;\n    }\n\n    .dataframe tbody tr th {\n        vertical-align: top;\n    }\n\n    .dataframe thead th {\n        text-align: right;\n    }\n</style>\n<table border=\"1\" class=\"dataframe\">\n  <thead>\n    <tr style=\"text-align: right;\">\n      <th></th>\n      <th>School Name</th>\n      <th>Town</th>\n      <th>Grade</th>\n      <th>% English Language Learner</th>\n      <th>% Students With Disabilities</th>\n      <th>% High Needs</th>\n      <th>% African American</th>\n      <th>% Asian</th>\n      <th>% Hispanic</th>\n      <th>% White</th>\n      <th>% Native American</th>\n      <th>% Native Hawaiian, Pacific Islander</th>\n      <th>% Multi-Race, Non-Hispanic</th>\n      <th>Average Class Size</th>\n      <th>% Males</th>\n      <th>% Females</th>\n      <th>Average Expenditures per Pupil</th>\n    </tr>\n  </thead>\n  <tbody>\n    <tr>\n      <th>0</th>\n      <td>Abington High</td>\n      <td>Abington</td>\n      <td>09,10,11,12</td>\n      <td>2.4</td>\n      <td>9.7</td>\n      <td>28.8</td>\n      <td>2.2</td>\n      <td>1.5</td>\n      <td>9.1</td>\n      <td>85.8</td>\n      <td>0.2</td>\n      <td>0.2</td>\n      <td>0.9</td>\n      <td>15.8</td>\n      <td>45.6</td>\n      <td>54.4</td>\n      <td>13270.84</td>\n    </tr>\n    <tr>\n      <th>1</th>\n      <td>Beaver Brook Elementary School</td>\n      <td>Abington</td>\n      <td>01,02,03,04</td>\n      <td>7.2</td>\n      <td>13.3</td>\n      <td>37.1</td>\n      <td>1.9</td>\n      <td>1.9</td>\n      <td>6.7</td>\n      <td>88.4</td>\n      <td>0.5</td>\n      <td>0.2</td>\n      <td>0.3</td>\n      <td>24.6</td>\n      <td>50.2</td>\n      <td>49.8</td>\n      <td>13270.84</td>\n    </tr>\n    <tr>\n      <th>2</th>\n      <td>Center Elementary School</td>\n      <td>Abington</td>\n      <td>PK,K</td>\n      <td>3.0</td>\n      <td>21.2</td>\n      <td>34.0</td>\n      <td>3.9</td>\n      <td>3.0</td>\n      <td>8.4</td>\n      <td>84.7</td>\n      <td>0.0</td>\n      <td>0.0</td>\n      <td>0.0</td>\n      <td>14.6</td>\n      <td>54.2</td>\n      <td>45.8</td>\n      <td>13270.84</td>\n    </tr>\n    <tr>\n      <th>3</th>\n      <td>Frolio Middle School</td>\n      <td>Abington</td>\n      <td>07,08</td>\n      <td>1.8</td>\n      <td>13.1</td>\n      <td>30.8</td>\n      <td>2.4</td>\n      <td>1.8</td>\n      <td>6.1</td>\n      <td>89.3</td>\n      <td>0.0</td>\n      <td>0.0</td>\n      <td>0.3</td>\n      <td>21.1</td>\n      <td>53.4</td>\n      <td>46.6</td>\n      <td>13270.84</td>\n    </tr>\n    <tr>\n      <th>4</th>\n      <td>Woodsdale Elementary School</td>\n      <td>Abington</td>\n      <td>05,06</td>\n      <td>2.0</td>\n      <td>10.8</td>\n      <td>30.6</td>\n      <td>2.0</td>\n      <td>1.4</td>\n      <td>4.2</td>\n      <td>92.1</td>\n      <td>0.0</td>\n      <td>0.0</td>\n      <td>0.3</td>\n      <td>30.4</td>\n      <td>50.7</td>\n      <td>49.3</td>\n      <td>13270.84</td>\n    </tr>\n    <tr>\n      <th>...</th>\n      <td>...</td>\n      <td>...</td>\n      <td>...</td>\n      <td>...</td>\n      <td>...</td>\n      <td>...</td>\n      <td>...</td>\n      <td>...</td>\n      <td>...</td>\n      <td>...</td>\n      <td>...</td>\n      <td>...</td>\n      <td>...</td>\n      <td>...</td>\n      <td>...</td>\n      <td>...</td>\n      <td>...</td>\n    </tr>\n    <tr>\n      <th>1856</th>\n      <td>Pioneer Charter School of Science II (PCSS-II)</td>\n      <td>Saugus</td>\n      <td>07,08,09,10,11,12</td>\n      <td>25.5</td>\n      <td>11.5</td>\n      <td>53.4</td>\n      <td>35.1</td>\n      <td>11.5</td>\n      <td>21.1</td>\n      <td>29.8</td>\n      <td>1.2</td>\n      <td>0.0</td>\n      <td>1.2</td>\n      <td>18.8</td>\n      <td>45.0</td>\n      <td>55.0</td>\n      <td>NaN</td>\n    </tr>\n    <tr>\n      <th>1857</th>\n      <td>Springfield Preparatory Charter School</td>\n      <td>Springfield</td>\n      <td>K,01,02</td>\n      <td>25.8</td>\n      <td>4.3</td>\n      <td>76.7</td>\n      <td>24.5</td>\n      <td>1.8</td>\n      <td>64.4</td>\n      <td>6.1</td>\n      <td>0.0</td>\n      <td>0.0</td>\n      <td>3.1</td>\n      <td>27.0</td>\n      <td>50.9</td>\n      <td>49.1</td>\n      <td>NaN</td>\n    </tr>\n    <tr>\n      <th>1858</th>\n      <td>TEC Connections Academy Commonwealth Virtual S...</td>\n      <td>East Walpole</td>\n      <td>K,01,02,03,04,05,06,07,08,09,10,11,12</td>\n      <td>2.1</td>\n      <td>20.4</td>\n      <td>49.9</td>\n      <td>6.3</td>\n      <td>3.3</td>\n      <td>12.2</td>\n      <td>70.5</td>\n      <td>0.4</td>\n      <td>0.2</td>\n      <td>7.1</td>\n      <td>25.7</td>\n      <td>43.4</td>\n      <td>56.6</td>\n      <td>NaN</td>\n    </tr>\n    <tr>\n      <th>1859</th>\n      <td>UP Academy Charter School of Dorchester</td>\n      <td>Boston</td>\n      <td>PK,K,01,02,03,04,05,06,07,08</td>\n      <td>21.1</td>\n      <td>19.5</td>\n      <td>78.0</td>\n      <td>56.7</td>\n      <td>1.6</td>\n      <td>38.0</td>\n      <td>1.1</td>\n      <td>0.4</td>\n      <td>0.0</td>\n      <td>2.2</td>\n      <td>21.9</td>\n      <td>49.2</td>\n      <td>50.8</td>\n      <td>NaN</td>\n    </tr>\n    <tr>\n      <th>1860</th>\n      <td>UP Academy Charter School of Springfield</td>\n      <td>Boston</td>\n      <td>06,07,08</td>\n      <td>NaN</td>\n      <td>NaN</td>\n      <td>NaN</td>\n      <td>NaN</td>\n      <td>NaN</td>\n      <td>NaN</td>\n      <td>NaN</td>\n      <td>NaN</td>\n      <td>NaN</td>\n      <td>NaN</td>\n      <td>NaN</td>\n      <td>NaN</td>\n      <td>NaN</td>\n      <td>NaN</td>\n    </tr>\n  </tbody>\n</table>\n<p>1861 rows × 17 columns</p>\n</div>"
     },
     "execution_count": 2,
     "metadata": {},
     "output_type": "execute_result"
    }
   ],
   "source": [
    "# select the features (necessary columns for prediction)\n",
    "\n",
    "filtered = schools[['School Name','Town','Grade','% English Language Learner','% Students With Disabilities',\n",
    "                    '% High Needs', '% African American', '% Asian', '% Hispanic', '% White', '% Native American',\n",
    "                    '% Native Hawaiian, Pacific Islander', '% Multi-Race, Non-Hispanic', 'Average Class Size',\n",
    "                    '% Males', '% Females', 'Average Expenditures per Pupil']]\n",
    "filtered"
   ],
   "metadata": {
    "collapsed": false,
    "ExecuteTime": {
     "end_time": "2023-08-17T03:10:25.127206Z",
     "start_time": "2023-08-17T03:10:25.095497800Z"
    }
   }
  },
  {
   "cell_type": "code",
   "execution_count": 3,
   "outputs": [
    {
     "data": {
      "text/plain": "42"
     },
     "execution_count": 3,
     "metadata": {},
     "output_type": "execute_result"
    }
   ],
   "source": [
    "len(filtered[filtered['Grade']=='PK,K,01,02,03,04'])"
   ],
   "metadata": {
    "collapsed": false,
    "ExecuteTime": {
     "end_time": "2023-08-17T03:10:41.952021300Z",
     "start_time": "2023-08-17T03:10:41.918008300Z"
    }
   }
  },
  {
   "cell_type": "code",
   "execution_count": 4,
   "outputs": [
    {
     "name": "stdout",
     "output_type": "stream",
     "text": [
      "<class 'pandas.core.frame.DataFrame'>\n",
      "RangeIndex: 1861 entries, 0 to 1860\n",
      "Data columns (total 17 columns):\n",
      " #   Column                               Non-Null Count  Dtype  \n",
      "---  ------                               --------------  -----  \n",
      " 0   School Name                          1861 non-null   object \n",
      " 1   Town                                 1861 non-null   object \n",
      " 2   Grade                                1860 non-null   object \n",
      " 3   % English Language Learner           1850 non-null   float64\n",
      " 4   % Students With Disabilities         1850 non-null   float64\n",
      " 5   % High Needs                         1850 non-null   float64\n",
      " 6   % African American                   1850 non-null   float64\n",
      " 7   % Asian                              1850 non-null   float64\n",
      " 8   % Hispanic                           1850 non-null   float64\n",
      " 9   % White                              1850 non-null   float64\n",
      " 10  % Native American                    1850 non-null   float64\n",
      " 11  % Native Hawaiian, Pacific Islander  1850 non-null   float64\n",
      " 12  % Multi-Race, Non-Hispanic           1850 non-null   float64\n",
      " 13  Average Class Size                   1823 non-null   float64\n",
      " 14  % Males                              1850 non-null   float64\n",
      " 15  % Females                            1850 non-null   float64\n",
      " 16  Average Expenditures per Pupil       1768 non-null   float64\n",
      "dtypes: float64(14), object(3)\n",
      "memory usage: 247.3+ KB\n"
     ]
    },
    {
     "data": {
      "text/plain": "School Name                            0.000000\nTown                                   0.000000\nGrade                                  0.000537\n% English Language Learner             0.005911\n% Students With Disabilities           0.005911\n% High Needs                           0.005911\n% African American                     0.005911\n% Asian                                0.005911\n% Hispanic                             0.005911\n% White                                0.005911\n% Native American                      0.005911\n% Native Hawaiian, Pacific Islander    0.005911\n% Multi-Race, Non-Hispanic             0.005911\nAverage Class Size                     0.020419\n% Males                                0.005911\n% Females                              0.005911\nAverage Expenditures per Pupil         0.049973\ndtype: float64"
     },
     "execution_count": 4,
     "metadata": {},
     "output_type": "execute_result"
    }
   ],
   "source": [
    "import math\n",
    "\n",
    "# Checking which columns have missing values\n",
    "\n",
    "filtered.info()\n",
    "filtered.isnull().mean()"
   ],
   "metadata": {
    "collapsed": false,
    "ExecuteTime": {
     "end_time": "2023-08-17T03:11:10.670437500Z",
     "start_time": "2023-08-17T03:11:10.652679200Z"
    }
   }
  },
  {
   "cell_type": "code",
   "execution_count": 7,
   "outputs": [
    {
     "name": "stderr",
     "output_type": "stream",
     "text": [
      "C:\\Users\\rassu\\AppData\\Local\\Temp\\ipykernel_12152\\1699862772.py:2: SettingWithCopyWarning: \n",
      "A value is trying to be set on a copy of a slice from a DataFrame.\n",
      "Try using .loc[row_indexer,col_indexer] = value instead\n",
      "\n",
      "See the caveats in the documentation: https://pandas.pydata.org/pandas-docs/stable/user_guide/indexing.html#returning-a-view-versus-a-copy\n",
      "  filtered['Grade'] = filtered['Grade'].copy().astype(str)\n"
     ]
    },
    {
     "data": {
      "text/plain": "                         School Name     Town             Grade  \\\n25               Bancroft Elementary  Andover  K,01,02,03,04,05   \n27        Henry C Sanborn Elementary  Andover  K,01,02,03,04,05   \n28             High Plain Elementary  Andover  K,01,02,03,04,05   \n30                  South Elementary  Andover  K,01,02,03,04,05   \n31                   West Elementary  Andover  K,01,02,03,04,05   \n...                              ...      ...               ...   \n1788                Linscott-Rumford   Woburn  K,01,02,03,04,05   \n1789                   Malcolm White   Woburn  K,01,02,03,04,05   \n1790                Mary D Altavesta   Woburn  K,01,02,03,04,05   \n1793                           Wyman   Woburn  K,01,02,03,04,05   \n1844  Bentley Academy Charter School    Salem  K,01,02,03,04,05   \n\n      % English Language Learner  % Students With Disabilities  % High Needs  \\\n25                           4.2                          16.5          23.8   \n27                          10.0                          14.2          28.3   \n28                          13.2                          14.0          28.5   \n30                           6.9                          15.6          25.8   \n31                           5.0                          20.9          30.5   \n...                          ...                           ...           ...   \n1788                         8.0                          11.2          42.9   \n1789                         7.5                           8.4          43.5   \n1790                        10.2                          13.4          50.8   \n1793                         3.9                           8.8          29.3   \n1844                        13.6                          16.3          72.8   \n\n      % African American  % Asian  % Hispanic  % White  % Native American  \\\n25                   3.2      6.6         5.9     78.4                0.3   \n27                   1.6     28.1         4.5     63.0                0.8   \n28                   2.7     29.1         6.6     58.3                0.0   \n30                   0.0     18.5         4.9     75.7                0.2   \n31                   3.0     14.6         6.8     72.5                0.2   \n...                  ...      ...         ...      ...                ...   \n1788                 8.5     21.4         6.7     59.4                0.0   \n1789                 6.5      5.6        11.8     71.1                0.6   \n1790                 9.8     19.9        16.3     48.4                1.2   \n1793                 1.1      9.4         7.2     78.5                0.0   \n1844                12.5      3.1        48.6     32.7                0.0   \n\n      % Native Hawaiian, Pacific Islander  % Multi-Race, Non-Hispanic  \\\n25                                    0.0                         5.6   \n27                                    0.0                         2.1   \n28                                    0.0                         3.3   \n30                                    0.2                         0.6   \n31                                    0.0                         3.0   \n...                                   ...                         ...   \n1788                                  0.0                         4.0   \n1789                                  0.0                         4.3   \n1790                                  0.8                         3.7   \n1793                                  0.0                         3.9   \n1844                                  0.0                         3.1   \n\n      Average Class Size  % Males  % Females  Average Expenditures per Pupil  \n25                  22.1     51.8       48.2                        15601.70  \n27                  22.1     54.9       45.1                        15601.70  \n28                  23.7     53.6       46.4                        15601.70  \n30                  21.9     50.9       49.1                        15601.70  \n31                  22.9     51.7       48.3                        15601.70  \n...                  ...      ...        ...                             ...  \n1788                18.4     46.0       54.0                        15158.26  \n1789                20.4     46.6       53.4                        15158.26  \n1790                17.1     55.3       44.7                        15158.26  \n1793                16.6     46.4       53.6                        15158.26  \n1844                15.4     51.4       48.6                             NaN  \n\n[299 rows x 17 columns]",
      "text/html": "<div>\n<style scoped>\n    .dataframe tbody tr th:only-of-type {\n        vertical-align: middle;\n    }\n\n    .dataframe tbody tr th {\n        vertical-align: top;\n    }\n\n    .dataframe thead th {\n        text-align: right;\n    }\n</style>\n<table border=\"1\" class=\"dataframe\">\n  <thead>\n    <tr style=\"text-align: right;\">\n      <th></th>\n      <th>School Name</th>\n      <th>Town</th>\n      <th>Grade</th>\n      <th>% English Language Learner</th>\n      <th>% Students With Disabilities</th>\n      <th>% High Needs</th>\n      <th>% African American</th>\n      <th>% Asian</th>\n      <th>% Hispanic</th>\n      <th>% White</th>\n      <th>% Native American</th>\n      <th>% Native Hawaiian, Pacific Islander</th>\n      <th>% Multi-Race, Non-Hispanic</th>\n      <th>Average Class Size</th>\n      <th>% Males</th>\n      <th>% Females</th>\n      <th>Average Expenditures per Pupil</th>\n    </tr>\n  </thead>\n  <tbody>\n    <tr>\n      <th>25</th>\n      <td>Bancroft Elementary</td>\n      <td>Andover</td>\n      <td>K,01,02,03,04,05</td>\n      <td>4.2</td>\n      <td>16.5</td>\n      <td>23.8</td>\n      <td>3.2</td>\n      <td>6.6</td>\n      <td>5.9</td>\n      <td>78.4</td>\n      <td>0.3</td>\n      <td>0.0</td>\n      <td>5.6</td>\n      <td>22.1</td>\n      <td>51.8</td>\n      <td>48.2</td>\n      <td>15601.70</td>\n    </tr>\n    <tr>\n      <th>27</th>\n      <td>Henry C Sanborn Elementary</td>\n      <td>Andover</td>\n      <td>K,01,02,03,04,05</td>\n      <td>10.0</td>\n      <td>14.2</td>\n      <td>28.3</td>\n      <td>1.6</td>\n      <td>28.1</td>\n      <td>4.5</td>\n      <td>63.0</td>\n      <td>0.8</td>\n      <td>0.0</td>\n      <td>2.1</td>\n      <td>22.1</td>\n      <td>54.9</td>\n      <td>45.1</td>\n      <td>15601.70</td>\n    </tr>\n    <tr>\n      <th>28</th>\n      <td>High Plain Elementary</td>\n      <td>Andover</td>\n      <td>K,01,02,03,04,05</td>\n      <td>13.2</td>\n      <td>14.0</td>\n      <td>28.5</td>\n      <td>2.7</td>\n      <td>29.1</td>\n      <td>6.6</td>\n      <td>58.3</td>\n      <td>0.0</td>\n      <td>0.0</td>\n      <td>3.3</td>\n      <td>23.7</td>\n      <td>53.6</td>\n      <td>46.4</td>\n      <td>15601.70</td>\n    </tr>\n    <tr>\n      <th>30</th>\n      <td>South Elementary</td>\n      <td>Andover</td>\n      <td>K,01,02,03,04,05</td>\n      <td>6.9</td>\n      <td>15.6</td>\n      <td>25.8</td>\n      <td>0.0</td>\n      <td>18.5</td>\n      <td>4.9</td>\n      <td>75.7</td>\n      <td>0.2</td>\n      <td>0.2</td>\n      <td>0.6</td>\n      <td>21.9</td>\n      <td>50.9</td>\n      <td>49.1</td>\n      <td>15601.70</td>\n    </tr>\n    <tr>\n      <th>31</th>\n      <td>West Elementary</td>\n      <td>Andover</td>\n      <td>K,01,02,03,04,05</td>\n      <td>5.0</td>\n      <td>20.9</td>\n      <td>30.5</td>\n      <td>3.0</td>\n      <td>14.6</td>\n      <td>6.8</td>\n      <td>72.5</td>\n      <td>0.2</td>\n      <td>0.0</td>\n      <td>3.0</td>\n      <td>22.9</td>\n      <td>51.7</td>\n      <td>48.3</td>\n      <td>15601.70</td>\n    </tr>\n    <tr>\n      <th>...</th>\n      <td>...</td>\n      <td>...</td>\n      <td>...</td>\n      <td>...</td>\n      <td>...</td>\n      <td>...</td>\n      <td>...</td>\n      <td>...</td>\n      <td>...</td>\n      <td>...</td>\n      <td>...</td>\n      <td>...</td>\n      <td>...</td>\n      <td>...</td>\n      <td>...</td>\n      <td>...</td>\n      <td>...</td>\n    </tr>\n    <tr>\n      <th>1788</th>\n      <td>Linscott-Rumford</td>\n      <td>Woburn</td>\n      <td>K,01,02,03,04,05</td>\n      <td>8.0</td>\n      <td>11.2</td>\n      <td>42.9</td>\n      <td>8.5</td>\n      <td>21.4</td>\n      <td>6.7</td>\n      <td>59.4</td>\n      <td>0.0</td>\n      <td>0.0</td>\n      <td>4.0</td>\n      <td>18.4</td>\n      <td>46.0</td>\n      <td>54.0</td>\n      <td>15158.26</td>\n    </tr>\n    <tr>\n      <th>1789</th>\n      <td>Malcolm White</td>\n      <td>Woburn</td>\n      <td>K,01,02,03,04,05</td>\n      <td>7.5</td>\n      <td>8.4</td>\n      <td>43.5</td>\n      <td>6.5</td>\n      <td>5.6</td>\n      <td>11.8</td>\n      <td>71.1</td>\n      <td>0.6</td>\n      <td>0.0</td>\n      <td>4.3</td>\n      <td>20.4</td>\n      <td>46.6</td>\n      <td>53.4</td>\n      <td>15158.26</td>\n    </tr>\n    <tr>\n      <th>1790</th>\n      <td>Mary D Altavesta</td>\n      <td>Woburn</td>\n      <td>K,01,02,03,04,05</td>\n      <td>10.2</td>\n      <td>13.4</td>\n      <td>50.8</td>\n      <td>9.8</td>\n      <td>19.9</td>\n      <td>16.3</td>\n      <td>48.4</td>\n      <td>1.2</td>\n      <td>0.8</td>\n      <td>3.7</td>\n      <td>17.1</td>\n      <td>55.3</td>\n      <td>44.7</td>\n      <td>15158.26</td>\n    </tr>\n    <tr>\n      <th>1793</th>\n      <td>Wyman</td>\n      <td>Woburn</td>\n      <td>K,01,02,03,04,05</td>\n      <td>3.9</td>\n      <td>8.8</td>\n      <td>29.3</td>\n      <td>1.1</td>\n      <td>9.4</td>\n      <td>7.2</td>\n      <td>78.5</td>\n      <td>0.0</td>\n      <td>0.0</td>\n      <td>3.9</td>\n      <td>16.6</td>\n      <td>46.4</td>\n      <td>53.6</td>\n      <td>15158.26</td>\n    </tr>\n    <tr>\n      <th>1844</th>\n      <td>Bentley Academy Charter School</td>\n      <td>Salem</td>\n      <td>K,01,02,03,04,05</td>\n      <td>13.6</td>\n      <td>16.3</td>\n      <td>72.8</td>\n      <td>12.5</td>\n      <td>3.1</td>\n      <td>48.6</td>\n      <td>32.7</td>\n      <td>0.0</td>\n      <td>0.0</td>\n      <td>3.1</td>\n      <td>15.4</td>\n      <td>51.4</td>\n      <td>48.6</td>\n      <td>NaN</td>\n    </tr>\n  </tbody>\n</table>\n<p>299 rows × 17 columns</p>\n</div>"
     },
     "execution_count": 7,
     "metadata": {},
     "output_type": "execute_result"
    }
   ],
   "source": [
    "# convert the 'Grade' column values to string\n",
    "filtered['Grade'] = filtered['Grade'].astype(str)\n",
    "\n",
    "# select only elementary schools from the set of all schools\n",
    "elem_schools = filtered.loc[filtered['Grade'].apply(lambda x: set(['K','01','02','03','04','05']).issubset(x.split(',')))\n",
    "                            & (filtered['Grade'].apply(lambda x: len(x.split(','))) == 6)]\n",
    "\n",
    "elem_schools"
   ],
   "metadata": {
    "collapsed": false,
    "ExecuteTime": {
     "end_time": "2023-08-17T03:12:35.154055600Z",
     "start_time": "2023-08-17T03:12:35.106570Z"
    }
   }
  },
  {
   "cell_type": "code",
   "execution_count": 8,
   "outputs": [
    {
     "data": {
      "text/plain": "          FIELD     MA DOE REPORT ORIGINAL FIELD NAME  YEAR\n0   School Code  School Directory            Org Code  2017\n1   School Name  School Directory            Org Name  2017\n2   School Type  School Directory            Org Type  2017\n3      Function  School Directory            Function  2017\n4  Contact Name  School Directory        Contact Name  2017",
      "text/html": "<div>\n<style scoped>\n    .dataframe tbody tr th:only-of-type {\n        vertical-align: middle;\n    }\n\n    .dataframe tbody tr th {\n        vertical-align: top;\n    }\n\n    .dataframe thead th {\n        text-align: right;\n    }\n</style>\n<table border=\"1\" class=\"dataframe\">\n  <thead>\n    <tr style=\"text-align: right;\">\n      <th></th>\n      <th>FIELD</th>\n      <th>MA DOE REPORT</th>\n      <th>ORIGINAL FIELD NAME</th>\n      <th>YEAR</th>\n    </tr>\n  </thead>\n  <tbody>\n    <tr>\n      <th>0</th>\n      <td>School Code</td>\n      <td>School Directory</td>\n      <td>Org Code</td>\n      <td>2017</td>\n    </tr>\n    <tr>\n      <th>1</th>\n      <td>School Name</td>\n      <td>School Directory</td>\n      <td>Org Name</td>\n      <td>2017</td>\n    </tr>\n    <tr>\n      <th>2</th>\n      <td>School Type</td>\n      <td>School Directory</td>\n      <td>Org Type</td>\n      <td>2017</td>\n    </tr>\n    <tr>\n      <th>3</th>\n      <td>Function</td>\n      <td>School Directory</td>\n      <td>Function</td>\n      <td>2017</td>\n    </tr>\n    <tr>\n      <th>4</th>\n      <td>Contact Name</td>\n      <td>School Directory</td>\n      <td>Contact Name</td>\n      <td>2017</td>\n    </tr>\n  </tbody>\n</table>\n</div>"
     },
     "execution_count": 8,
     "metadata": {},
     "output_type": "execute_result"
    }
   ],
   "source": [
    "# have a glimpse at 'data_dict' dataset\n",
    "\n",
    "column_names.head()"
   ],
   "metadata": {
    "collapsed": false,
    "ExecuteTime": {
     "end_time": "2023-08-17T03:13:03.473961Z",
     "start_time": "2023-08-17T03:13:03.465878300Z"
    }
   }
  },
  {
   "cell_type": "code",
   "execution_count": 9,
   "outputs": [
    {
     "data": {
      "text/plain": "                       FIELD                               MA DOE REPORT  \\\n98  % MCAS_3rdGrade_Math_P+A  MCAS Achievement Results (grade 3 English)   \n\n   ORIGINAL FIELD NAME  YEAR  \n98               P+A %  2016  ",
      "text/html": "<div>\n<style scoped>\n    .dataframe tbody tr th:only-of-type {\n        vertical-align: middle;\n    }\n\n    .dataframe tbody tr th {\n        vertical-align: top;\n    }\n\n    .dataframe thead th {\n        text-align: right;\n    }\n</style>\n<table border=\"1\" class=\"dataframe\">\n  <thead>\n    <tr style=\"text-align: right;\">\n      <th></th>\n      <th>FIELD</th>\n      <th>MA DOE REPORT</th>\n      <th>ORIGINAL FIELD NAME</th>\n      <th>YEAR</th>\n    </tr>\n  </thead>\n  <tbody>\n    <tr>\n      <th>98</th>\n      <td>% MCAS_3rdGrade_Math_P+A</td>\n      <td>MCAS Achievement Results (grade 3 English)</td>\n      <td>P+A %</td>\n      <td>2016</td>\n    </tr>\n  </tbody>\n</table>\n</div>"
     },
     "execution_count": 9,
     "metadata": {},
     "output_type": "execute_result"
    }
   ],
   "source": [
    "column_names.loc[column_names['FIELD'] == '% MCAS_3rdGrade_Math_P+A']"
   ],
   "metadata": {
    "collapsed": false,
    "ExecuteTime": {
     "end_time": "2023-08-17T03:13:24.600072700Z",
     "start_time": "2023-08-17T03:13:24.588892600Z"
    }
   }
  },
  {
   "cell_type": "code",
   "execution_count": 10,
   "outputs": [
    {
     "name": "stdout",
     "output_type": "stream",
     "text": [
      "['School Code', 'School Name', 'School Type', 'Function', 'Contact Name', 'Address 1', 'Address 2', 'Town', 'State', 'Zip', 'Phone', 'Fax', 'Grade', 'District Name', 'District Code', 'PK_Enrollment', 'K_Enrollment', '1_Enrollment', '2_Enrollment', '3_Enrollment', '4_Enrollment', '5_Enrollment', '6_Enrollment', '7_Enrollment', '8_Enrollment', '9_Enrollment', '10_Enrollment', '11_Enrollment', '12_Enrollment', 'SP_Enrollment', 'TOTAL_Enrollment', 'First Language Not English', '% First Language Not English', 'English Language Learner', '% English Language Learner', 'Students With Disabilities', '% Students With Disabilities', 'High Needs', '% High Needs', 'Economically Disadvantaged', '% Economically Disadvantaged', '% African American', '% Asian', '% Hispanic', '% White', '% Native American', '% Native Hawaiian, Pacific Islander', '% Multi-Race, Non-Hispanic', '% Males', '% Females', 'Total # of Classes', 'Average Class Size', 'Number of Students', 'Salary Totals', 'Average Salary', 'FTE Count', 'In-District Expenditures', 'Total In-district FTEs', 'Average In-District Expenditures per Pupil', 'Total Expenditures', 'Total Pupil FTEs', 'Average Expenditures per Pupil', '# in Cohort', '% Graduated', '% Still in School', '% Non-Grad Completers', '% GED', '% Dropped Out', '% Permanently Excluded', 'High School Graduates (#)', 'Attending Coll./Univ. (#)', '% Attending College', '% Private Two-Year', '% Private Four-Year', '% Public Two-Year', '% Public Four-Year', '% MA Community College', '% MA State University', '% UMass', 'AP_Test Takers', 'AP_Tests Taken', 'AP_One Test', 'AP_Two Tests', 'AP_Three Tests', 'AP_Four Tests', 'AP_Five or More Tests', 'AP_Score=1', 'AP_Score=2', 'AP_Score=3', 'AP_Score=4', 'AP_Score=5', '% AP_Score 1-2', '% AP_Score 3-5', 'SAT_Tests Taken', 'Average SAT_Reading', 'Average SAT_Writing', 'Average SAT_Math', 'MCAS_3rdGrade_Math_P+A #', '% MCAS_3rdGrade_Math_P+A', 'MCAS_3rdGrade_Math_A #', '% MCAS_3rdGrade_Math_A', 'MCAS_3rdGrade_Math_P #', '% MCAS_3rdGrade_Math_P', 'MCAS_3rdGrade_Math_NI #', '% MCAS_3rdGrade_Math_NI', 'MCAS_3rdGrade_Math_W/F #', '% MCAS_3rdGrade_Math_W/F', 'MCAS_3rdGrade_Math_Stud. Incl. #', 'MCAS_3rdGrade_Math_CPI', 'MCAS_3rdGrade_Math_SGP', 'MCAS_3rdGrade_Math_Incl. in SGP(#)', 'MCAS_4thGrade_Math_P+A #', '% MCAS_4thGrade_Math_P+A', 'MCAS_4thGrade_Math_A #', '% MCAS_4thGrade_Math_A', 'MCAS_4thGrade_Math_P #', '% MCAS_4thGrade_Math_P', 'MCAS_4thGrade_Math_NI #', '% MCAS_4thGrade_Math_NI', 'MCAS_4thGrade_Math_W/F #', '% MCAS_4thGrade_Math_W/F', 'MCAS_4thGrade_Math_Stud. Incl. #', 'MCAS_4thGrade_Math_CPI', 'MCAS_4thGrade_Math_SGP', 'MCAS_4thGrade_Math_Incl. in SGP(#)', 'MCAS_5thGrade_Math_P+A #', '% MCAS_5thGrade_Math_P+A', 'MCAS_5thGrade_Math_A #', '% MCAS_5thGrade_Math_A', 'MCAS_5thGrade_Math_P #', '% MCAS_5thGrade_Math_P', 'MCAS_5thGrade_Math_NI #', '% MCAS_5thGrade_Math_NI', 'MCAS_5thGrade_Math_W/F #', '% MCAS_5thGrade_Math_W/F', 'MCAS_5thGrade_Math_Stud. Incl. #', 'MCAS_5thGrade_Math_CPI', 'MCAS_5thGrade_Math_SGP', 'MCAS_5thGrade_Math_Incl. in SGP(#)', 'MCAS_6thGrade_Math_P+A #', '% MCAS_6thGrade_Math_P+A', 'MCAS_6thGrade_Math_A #', '% MCAS_6thGrade_Math_A', 'MCAS_6thGrade_Math_P #', '% MCAS_6thGrade_Math_P', 'MCAS_6thGrade_Math_NI #', '% MCAS_6thGrade_Math_NI', 'MCAS_6thGrade_Math_W/F #', '% MCAS_6thGrade_Math_W/F', 'MCAS_6thGrade_Math_Stud. Incl. #', 'MCAS_6thGrade_Math_CPI', 'MCAS_6thGrade_Math_SGP', 'MCAS_6thGrade_Math_Incl. in SGP(#)', 'MCAS_7thGrade_Math_P+A #', '% MCAS_7thGrade_Math_P+A', 'MCAS_7thGrade_Math_A #', '% MCAS_7thGrade_Math_A', 'MCAS_7thGrade_Math_P #', '% MCAS_7thGrade_Math_P', 'MCAS_7thGrade_Math_NI #', '% MCAS_7thGrade_Math_NI', 'MCAS_7thGrade_Math_W/F #', '% MCAS_7thGrade_Math_W/F', 'MCAS_7thGrade_Math_Stud. Incl. #', 'MCAS_7thGrade_Math_CPI', 'MCAS_7thGrade_Math_SGP', 'MCAS_7thGrade_Math_Incl. in SGP(#)', 'MCAS_8thGrade_Math_P+A #', '% MCAS_8thGrade_Math_P+A', 'MCAS_8thGrade_Math_A #', '% MCAS_8thGrade_Math_A', 'MCAS_8thGrade_Math_P #', '% MCAS_8thGrade_Math_P', 'MCAS_8thGrade_Math_NI #', '% MCAS_8thGrade_Math_NI', 'MCAS_8thGrade_Math_W/F #', '% MCAS_8thGrade_Math_W/F', 'MCAS_8thGrade_Math_Stud. Incl. #', 'MCAS_8thGrade_Math_CPI', 'MCAS_8thGrade_Math_SGP', 'MCAS_8thGrade_Math_Incl. in SGP(#)', 'MCAS_10thGrade_Math_P+A #', '% MCAS_10thGrade_Math_P+A', 'MCAS_10thGrade_Math_A #', '% MCAS_10thGrade_Math_A', 'MCAS_10thGrade_Math_P #', '% MCAS_10thGrade_Math_P', 'MCAS_10thGrade_Math_NI #', '% MCAS_10thGrade_Math_NI', 'MCAS_10thGrade_Math_W/F #', '% MCAS_10thGrade_Math_W/F', 'MCAS_10thGrade_Math_Stud. Incl. #', 'MCAS_10thGrade_Math_CPI', 'MCAS_10thGrade_Math_SGP', 'MCAS_10thGrade_Math_Incl. in SGP(#)', 'MCAS_3rdGrade_English_P+A #', '% MCAS_3rdGrade_English_P+A', 'MCAS_3rdGrade_English_A #', '% MCAS_3rdGrade_English_A', 'MCAS_3rdGrade_English_P #', '% MCAS_3rdGrade_English_P', 'MCAS_3rdGrade_English_NI #', '% MCAS_3rdGrade_English_NI', 'MCAS_3rdGrade_English_W/F #', '% MCAS_3rdGrade_English_W/F', 'MCAS_3rdGrade_English_Stud. Incl. #', 'MCAS_3rdGrade_English_CPI', 'MCAS_3rdGrade_English_SGP', 'MCAS_3rdGrade_English_Incl. in SGP(#)', 'MCAS_4thGrade_English_P+A #', '% MCAS_4thGrade_English_P+A', 'MCAS_4thGrade_English_A #', '% MCAS_4thGrade_English_A', 'MCAS_4thGrade_English_P #', '% MCAS_4thGrade_English_P', 'MCAS_4thGrade_English_NI #', '% MCAS_4thGrade_English_NI', 'MCAS_4thGrade_English_W/F #', '% MCAS_4thGrade_English_W/F', 'MCAS_4thGrade_English_Stud. Incl. #', 'MCAS_4thGrade_English_CPI', 'MCAS_4thGrade_English_SGP', 'MCAS_4thGrade_English_Incl. in SGP(#)', 'MCAS_5thGrade_English_P+A #', '% MCAS_5thGrade_English_P+A', 'MCAS_5thGrade_English_A #', '% MCAS_5thGrade_English_A', 'MCAS_5thGrade_English_P #', '% MCAS_5thGrade_English_P', 'MCAS_5thGrade_English_NI #', '% MCAS_5thGrade_English_NI', 'MCAS_5thGrade_English_W/F #', '% MCAS_5thGrade_English_W/F', 'MCAS_5thGrade_English_Stud. Incl. #', 'MCAS_5thGrade_English_CPI', 'MCAS_5thGrade_English_SGP', 'MCAS_5thGrade_English_Incl. in SGP(#)', 'MCAS_6thGrade_English_P+A #', '% MCAS_6thGrade_English_P+A', 'MCAS_6thGrade_English_A #', '% MCAS_6thGrade_English_A', 'MCAS_6thGrade_English_P #', '% MCAS_6thGrade_English_P', 'MCAS_6thGrade_English_NI #', '% MCAS_6thGrade_English_NI', 'MCAS_6thGrade_English_W/F #', '% MCAS_6thGrade_English_W/F', 'MCAS_6thGrade_English_Stud. Incl. #', 'MCAS_6thGrade_English_CPI', 'MCAS_6thGrade_English_SGP', 'MCAS_6thGrade_English_Incl. in SGP(#)', 'MCAS_7thGrade_English_P+A #', '% MCAS_7thGrade_English_P+A', 'MCAS_7thGrade_English_A #', '% MCAS_7thGrade_English_A', 'MCAS_7thGrade_English_P #', '% MCAS_7thGrade_English_P', 'MCAS_7thGrade_English_NI #', '% MCAS_7thGrade_English_NI', 'MCAS_7thGrade_English_W/F #', '% MCAS_7thGrade_English_W/F', 'MCAS_7thGrade_English_Stud. Incl. #', 'MCAS_7thGrade_English_CPI', 'MCAS_7thGrade_English_SGP', 'MCAS_7thGrade_English_Incl. in SGP(#)', 'MCAS_8thGrade_English_P+A #', '% MCAS_8thGrade_English_P+A', 'MCAS_8thGrade_English_A #', '% MCAS_8thGrade_English_A', 'MCAS_8thGrade_English_P #', '% MCAS_8thGrade_English_P', 'MCAS_8thGrade_English_NI #', '% MCAS_8thGrade_English_NI', 'MCAS_8thGrade_English_W/F #', '% MCAS_8thGrade_English_W/F', 'MCAS_8thGrade_English_Stud. Incl. #', 'MCAS_8thGrade_English_CPI', 'MCAS_8thGrade_English_SGP', 'MCAS_8thGrade_English_Incl. in SGP(#)', 'MCAS_10thGrade_English_P+A #', '% MCAS_10thGrade_English_P+A', 'MCAS_10thGrade_English_A #', '% MCAS_10thGrade_English_A', 'MCAS_10thGrade_English_P #', '% MCAS_10thGrade_English_P', 'MCAS_10thGrade_English_NI #', '% MCAS_10thGrade_English_NI', 'MCAS_10thGrade_English_W/F #', '% MCAS_10thGrade_English_W/F', 'MCAS_10thGrade_English_Stud. Incl. #', 'MCAS_10thGrade_English_CPI', 'MCAS_10thGrade_English_SGP', 'MCAS_10thGrade_English_Incl. in SGP(#)', 'Accountability and Assistance Level', 'Accountability and Assistance Description', 'School Accountability Percentile (1-99)', 'Progress and Performance Index (PPI) - All Students', 'Progress and Performance Index (PPI) - High Needs Students', 'District_Accountability and Assistance Level', 'District_Accountability and Assistance Description', 'District_Progress and Performance Index (PPI) - All Students', 'District_Progress and Performance Index (PPI) - High Needs Students']\n"
     ]
    }
   ],
   "source": [
    "columns = list(column_names['FIELD'])\n",
    "print(columns)"
   ],
   "metadata": {
    "collapsed": false,
    "ExecuteTime": {
     "end_time": "2023-08-17T03:13:33.920067400Z",
     "start_time": "2023-08-17T03:13:33.920067400Z"
    }
   }
  }
 ],
 "metadata": {
  "kernelspec": {
   "display_name": "Python 3",
   "language": "python",
   "name": "python3"
  },
  "language_info": {
   "codemirror_mode": {
    "name": "ipython",
    "version": 2
   },
   "file_extension": ".py",
   "mimetype": "text/x-python",
   "name": "python",
   "nbconvert_exporter": "python",
   "pygments_lexer": "ipython2",
   "version": "2.7.6"
  }
 },
 "nbformat": 4,
 "nbformat_minor": 0
}
