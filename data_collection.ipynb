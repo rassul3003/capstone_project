{
 "cells": [
  {
   "cell_type": "code",
   "execution_count": 3,
   "metadata": {
    "collapsed": true,
    "ExecuteTime": {
     "end_time": "2023-07-22T01:40:49.600137300Z",
     "start_time": "2023-07-22T01:40:49.413521Z"
    }
   },
   "outputs": [
    {
     "data": {
      "text/plain": "   School Code                     School Name    School Type   Function  \\\n0        10505                   Abington High  Public School  Principal   \n1        10003  Beaver Brook Elementary School  Public School  Principal   \n2        10002        Center Elementary School  Public School  Principal   \n3        10405            Frolio Middle School  Public School  Principal   \n4        10015     Woodsdale Elementary School  Public School  Principal   \n\n           Contact Name            Address 1 Address 2      Town State   Zip  \\\n0  Teresa Sullivan-Cruz   201 Gliniewicz Way       NaN  Abington    MA  2351   \n1       Catherine Zinni  1 Ralph Hamlin Lane       NaN  Abington    MA  2351   \n2        Lora Monachino   201 Gliniewicz Way       NaN  Abington    MA  2351   \n3    Matthew MacCurtain   201 Gliniewicz Way       NaN  Abington    MA  2351   \n4        Jonathan Hawes  128 Chestnut Street       NaN  Abington    MA  2351   \n\n   ... MCAS_10thGrade_English_Incl. in SGP(#)  \\\n0  ...                                  111.0   \n1  ...                                    NaN   \n2  ...                                    NaN   \n3  ...                                    NaN   \n4  ...                                    NaN   \n\n  Accountability and Assistance Level  \\\n0                             Level 1   \n1                             Level 3   \n2                   Insufficient data   \n3                             Level 2   \n4                             Level 2   \n\n  Accountability and Assistance Description  \\\n0               Meeting gap narrowing goals   \n1  Among lowest performing 20% of subgroups   \n2                                       NaN   \n3           Not meeting gap narrowing goals   \n4           Not meeting gap narrowing goals   \n\n  School Accountability Percentile (1-99)  \\\n0                                    42.0   \n1                                    34.0   \n2                                     NaN   \n3                                    40.0   \n4                                    52.0   \n\n   Progress and Performance Index (PPI) - All Students  \\\n0                                               76.0     \n1                                               69.0     \n2                                                NaN     \n3                                               63.0     \n4                                               65.0     \n\n   Progress and Performance Index (PPI) - High Needs Students  \\\n0                                               75.0            \n1                                               73.0            \n2                                                NaN            \n3                                               64.0            \n4                                               67.0            \n\n   District_Accountability and Assistance Level  \\\n0                                       Level 3   \n1                                       Level 3   \n2                                       Level 3   \n3                                       Level 3   \n4                                       Level 3   \n\n   District_Accountability and Assistance Description  \\\n0  One or more schools in the district classified...    \n1  One or more schools in the district classified...    \n2  One or more schools in the district classified...    \n3  One or more schools in the district classified...    \n4  One or more schools in the district classified...    \n\n   District_Progress and Performance Index (PPI) - All Students  \\\n0                                               63.0              \n1                                               63.0              \n2                                               63.0              \n3                                               63.0              \n4                                               63.0              \n\n   District_Progress and Performance Index (PPI) - High Needs Students  \n0                                               60.0                    \n1                                               60.0                    \n2                                               60.0                    \n3                                               60.0                    \n4                                               60.0                    \n\n[5 rows x 302 columns]",
      "text/html": "<div>\n<style scoped>\n    .dataframe tbody tr th:only-of-type {\n        vertical-align: middle;\n    }\n\n    .dataframe tbody tr th {\n        vertical-align: top;\n    }\n\n    .dataframe thead th {\n        text-align: right;\n    }\n</style>\n<table border=\"1\" class=\"dataframe\">\n  <thead>\n    <tr style=\"text-align: right;\">\n      <th></th>\n      <th>School Code</th>\n      <th>School Name</th>\n      <th>School Type</th>\n      <th>Function</th>\n      <th>Contact Name</th>\n      <th>Address 1</th>\n      <th>Address 2</th>\n      <th>Town</th>\n      <th>State</th>\n      <th>Zip</th>\n      <th>...</th>\n      <th>MCAS_10thGrade_English_Incl. in SGP(#)</th>\n      <th>Accountability and Assistance Level</th>\n      <th>Accountability and Assistance Description</th>\n      <th>School Accountability Percentile (1-99)</th>\n      <th>Progress and Performance Index (PPI) - All Students</th>\n      <th>Progress and Performance Index (PPI) - High Needs Students</th>\n      <th>District_Accountability and Assistance Level</th>\n      <th>District_Accountability and Assistance Description</th>\n      <th>District_Progress and Performance Index (PPI) - All Students</th>\n      <th>District_Progress and Performance Index (PPI) - High Needs Students</th>\n    </tr>\n  </thead>\n  <tbody>\n    <tr>\n      <th>0</th>\n      <td>10505</td>\n      <td>Abington High</td>\n      <td>Public School</td>\n      <td>Principal</td>\n      <td>Teresa Sullivan-Cruz</td>\n      <td>201 Gliniewicz Way</td>\n      <td>NaN</td>\n      <td>Abington</td>\n      <td>MA</td>\n      <td>2351</td>\n      <td>...</td>\n      <td>111.0</td>\n      <td>Level 1</td>\n      <td>Meeting gap narrowing goals</td>\n      <td>42.0</td>\n      <td>76.0</td>\n      <td>75.0</td>\n      <td>Level 3</td>\n      <td>One or more schools in the district classified...</td>\n      <td>63.0</td>\n      <td>60.0</td>\n    </tr>\n    <tr>\n      <th>1</th>\n      <td>10003</td>\n      <td>Beaver Brook Elementary School</td>\n      <td>Public School</td>\n      <td>Principal</td>\n      <td>Catherine Zinni</td>\n      <td>1 Ralph Hamlin Lane</td>\n      <td>NaN</td>\n      <td>Abington</td>\n      <td>MA</td>\n      <td>2351</td>\n      <td>...</td>\n      <td>NaN</td>\n      <td>Level 3</td>\n      <td>Among lowest performing 20% of subgroups</td>\n      <td>34.0</td>\n      <td>69.0</td>\n      <td>73.0</td>\n      <td>Level 3</td>\n      <td>One or more schools in the district classified...</td>\n      <td>63.0</td>\n      <td>60.0</td>\n    </tr>\n    <tr>\n      <th>2</th>\n      <td>10002</td>\n      <td>Center Elementary School</td>\n      <td>Public School</td>\n      <td>Principal</td>\n      <td>Lora Monachino</td>\n      <td>201 Gliniewicz Way</td>\n      <td>NaN</td>\n      <td>Abington</td>\n      <td>MA</td>\n      <td>2351</td>\n      <td>...</td>\n      <td>NaN</td>\n      <td>Insufficient data</td>\n      <td>NaN</td>\n      <td>NaN</td>\n      <td>NaN</td>\n      <td>NaN</td>\n      <td>Level 3</td>\n      <td>One or more schools in the district classified...</td>\n      <td>63.0</td>\n      <td>60.0</td>\n    </tr>\n    <tr>\n      <th>3</th>\n      <td>10405</td>\n      <td>Frolio Middle School</td>\n      <td>Public School</td>\n      <td>Principal</td>\n      <td>Matthew MacCurtain</td>\n      <td>201 Gliniewicz Way</td>\n      <td>NaN</td>\n      <td>Abington</td>\n      <td>MA</td>\n      <td>2351</td>\n      <td>...</td>\n      <td>NaN</td>\n      <td>Level 2</td>\n      <td>Not meeting gap narrowing goals</td>\n      <td>40.0</td>\n      <td>63.0</td>\n      <td>64.0</td>\n      <td>Level 3</td>\n      <td>One or more schools in the district classified...</td>\n      <td>63.0</td>\n      <td>60.0</td>\n    </tr>\n    <tr>\n      <th>4</th>\n      <td>10015</td>\n      <td>Woodsdale Elementary School</td>\n      <td>Public School</td>\n      <td>Principal</td>\n      <td>Jonathan Hawes</td>\n      <td>128 Chestnut Street</td>\n      <td>NaN</td>\n      <td>Abington</td>\n      <td>MA</td>\n      <td>2351</td>\n      <td>...</td>\n      <td>NaN</td>\n      <td>Level 2</td>\n      <td>Not meeting gap narrowing goals</td>\n      <td>52.0</td>\n      <td>65.0</td>\n      <td>67.0</td>\n      <td>Level 3</td>\n      <td>One or more schools in the district classified...</td>\n      <td>63.0</td>\n      <td>60.0</td>\n    </tr>\n  </tbody>\n</table>\n<p>5 rows × 302 columns</p>\n</div>"
     },
     "execution_count": 3,
     "metadata": {},
     "output_type": "execute_result"
    }
   ],
   "source": [
    "import pandas as pd\n",
    "\n",
    "# load two csv files to obtain 'schools' and 'data_dict' datasets\n",
    "\n",
    "schools = pd.read_csv('MA_Public_Schools_2017.csv')\n",
    "column_names = pd.read_csv('MA_Public_Schools_datadict.csv')\n",
    "schools.head()"
   ]
  },
  {
   "cell_type": "code",
   "execution_count": null,
   "outputs": [],
   "source": [],
   "metadata": {
    "collapsed": false
   }
  }
 ],
 "metadata": {
  "kernelspec": {
   "display_name": "Python 3",
   "language": "python",
   "name": "python3"
  },
  "language_info": {
   "codemirror_mode": {
    "name": "ipython",
    "version": 2
   },
   "file_extension": ".py",
   "mimetype": "text/x-python",
   "name": "python",
   "nbconvert_exporter": "python",
   "pygments_lexer": "ipython2",
   "version": "2.7.6"
  }
 },
 "nbformat": 4,
 "nbformat_minor": 0
}
